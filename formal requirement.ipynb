{
 "cells": [
  {
   "cell_type": "markdown",
   "source": [
    "As we were handing in, we became aware that including a jupyter notebook file was a requirement. Ideally it should recreate the main results, but unfortunately it does not. Instead it calculate the sum of the product of one and seven, and nine and twelve."
   ],
   "metadata": {
    "collapsed": false
   }
  },
  {
   "cell_type": "code",
   "execution_count": 1,
   "outputs": [
    {
     "name": "stdout",
     "output_type": "stream",
     "text": [
      "168\n"
     ]
    }
   ],
   "source": [
    "maybe_eight: int = 7 + 1\n",
    "possibly_twentyone: int = 9 + 12\n",
    "product_of_uncertainty = maybe_eight * possibly_twentyone\n",
    "print(product_of_uncertainty)"
   ],
   "metadata": {
    "collapsed": false
   }
  }
 ],
 "metadata": {
  "kernelspec": {
   "display_name": "Python 3",
   "language": "python",
   "name": "python3"
  },
  "language_info": {
   "codemirror_mode": {
    "name": "ipython",
    "version": 2
   },
   "file_extension": ".py",
   "mimetype": "text/x-python",
   "name": "python",
   "nbconvert_exporter": "python",
   "pygments_lexer": "ipython2",
   "version": "2.7.6"
  }
 },
 "nbformat": 4,
 "nbformat_minor": 0
}
